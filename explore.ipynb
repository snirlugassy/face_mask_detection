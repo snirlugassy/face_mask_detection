{
 "cells": [
  {
   "cell_type": "code",
   "execution_count": 26,
   "metadata": {},
   "outputs": [],
   "source": [
    "import os\n",
    "from PIL import Image\n",
    "import matplotlib.pyplot as plt\n",
    "from torchvision.io import read_image\n",
    "import torch\n",
    "from torchvision.transforms import ToTensor"
   ]
  },
  {
   "cell_type": "code",
   "execution_count": 27,
   "metadata": {},
   "outputs": [
    {
     "data": {
      "text/plain": [
       "torch.Size([3, 56, 56])"
      ]
     },
     "execution_count": 27,
     "metadata": {},
     "output_type": "execute_result"
    }
   ],
   "source": [
    "pil_to_tensor = ToTensor()\n",
    "\n",
    "im = Image.open('./data/train/000000_0.jpg')\n",
    "t = pil_to_tensor(im)\n",
    "t.shape"
   ]
  },
  {
   "cell_type": "code",
   "execution_count": 22,
   "metadata": {},
   "outputs": [
    {
     "data": {
      "text/plain": [
       "torch.Size([3, 56, 56])"
      ]
     },
     "execution_count": 22,
     "metadata": {},
     "output_type": "execute_result"
    }
   ],
   "source": [
    "im = read_image('./data/train/000000_0.jpg')\n",
    "im.shape"
   ]
  },
  {
   "cell_type": "code",
   "execution_count": 14,
   "metadata": {},
   "outputs": [],
   "source": [
    "# Labeling balance\n",
    "labels = []\n",
    "for f in os.listdir('./data/train'):\n",
    "    labels.append(int(os.path.splitext(f)[0].split('_')[1]))"
   ]
  },
  {
   "cell_type": "code",
   "execution_count": 16,
   "metadata": {},
   "outputs": [
    {
     "name": "stdout",
     "output_type": "stream",
     "text": [
      "with mask 9948\n",
      "without mask 8311\n"
     ]
    }
   ],
   "source": [
    "print('with mask', sum(labels))\n",
    "print('without mask', len(labels) - sum(labels))"
   ]
  },
  {
   "cell_type": "code",
   "execution_count": 15,
   "metadata": {},
   "outputs": [
    {
     "data": {
      "text/plain": [
       "(array([8311.,    0.,    0.,    0.,    0.,    0.,    0.,    0.,    0.,\n",
       "        9948.]),\n",
       " array([0. , 0.1, 0.2, 0.3, 0.4, 0.5, 0.6, 0.7, 0.8, 0.9, 1. ]),\n",
       " <BarContainer object of 10 artists>)"
      ]
     },
     "execution_count": 15,
     "metadata": {},
     "output_type": "execute_result"
    },
    {
     "data": {
      "image/png": "[encoded data removed]",
      "text/plain": [
       "<Figure size 432x288 with 1 Axes>"
      ]
     },
     "metadata": {
      "needs_background": "light"
     },
     "output_type": "display_data"
    }
   ],
   "source": [
    "plt.hist(labels)"
   ]
  },
  {
   "cell_type": "code",
   "execution_count": null,
   "metadata": {},
   "outputs": [],
   "source": [
    "images_dir = './data/train'\n",
    "images = []\n",
    "for i in os.listdir(images_dir):\n",
    "    im = Image.open(os.path.join(images_dir, i))\n",
    "    images.append((im.width, im.height))\n",
    "len(images)"
   ]
  },
  {
   "cell_type": "code",
   "execution_count": null,
   "metadata": {},
   "outputs": [],
   "source": [
    "x = [dim[0] for dim in images]\n",
    "plt.hist(x, bins=30)\n",
    "plt.title('Image width histogram')\n",
    "plt.show()"
   ]
  },
  {
   "cell_type": "code",
   "execution_count": null,
   "metadata": {},
   "outputs": [],
   "source": [
    "y = [dim[1] for dim in images]\n",
    "plt.hist(y, bins=30)\n",
    "plt.title('Image height histogram')\n",
    "plt.show()"
   ]
  },
  {
   "cell_type": "code",
   "execution_count": null,
   "metadata": {},
   "outputs": [],
   "source": [
    "plt.figure(figsize=(6,6))\n",
    "plt.scatter(x,y)\n",
    "plt.title('Image width-height scatter')\n",
    "plt.xlabel('Image width')\n",
    "plt.ylabel('Image height')\n",
    "plt.show()"
   ]
  },
  {
   "cell_type": "code",
   "execution_count": null,
   "metadata": {},
   "outputs": [],
   "source": [
    "sum(y) / len(y)"
   ]
  },
  {
   "cell_type": "code",
   "execution_count": null,
   "metadata": {},
   "outputs": [],
   "source": [
    "im = Image.open(os.path.join(images_dir, os.listdir(images_dir)[32]))\n",
    "print(im.width, im.height)\n",
    "im"
   ]
  },
  {
   "cell_type": "code",
   "execution_count": null,
   "metadata": {},
   "outputs": [],
   "source": [
    "im.resize((256,256), Image.NEAREST)"
   ]
  },
  {
   "cell_type": "code",
   "execution_count": null,
   "metadata": {},
   "outputs": [],
   "source": [
    "im.resize((256,256), Image.BILINEAR)"
   ]
  },
  {
   "cell_type": "code",
   "execution_count": null,
   "metadata": {},
   "outputs": [],
   "source": [
    "im.resize((256,256), Image.ANTIALIAS)"
   ]
  },
  {
   "cell_type": "code",
   "execution_count": null,
   "metadata": {},
   "outputs": [],
   "source": [
    "im.resize((256,256), Image.BILINEAR).rotate(90)"
   ]
  },
  {
   "cell_type": "code",
   "execution_count": null,
   "metadata": {},
   "outputs": [],
   "source": [
    "import numpy as np\n",
    "\n",
    "x = np.asanyarray(im)\n",
    "x"
   ]
  },
  {
   "cell_type": "code",
   "execution_count": null,
   "metadata": {},
   "outputs": [],
   "source": [
    "i1 = im.resize((256,256), Image.BILINEAR)\n",
    "i1"
   ]
  },
  {
   "cell_type": "code",
   "execution_count": null,
   "metadata": {},
   "outputs": [],
   "source": [
    "x = np.asanyarray(i1)\n",
    "_x = x + np.random.standard_normal(x.shape) * 3\n",
    "i2 = Image.fromarray(np.uint8(_x))\n",
    "i2"
   ]
  },
  {
   "cell_type": "code",
   "execution_count": null,
   "metadata": {},
   "outputs": [],
   "source": [
    "# swapping color channels\n",
    "d1,d2,d3 = x[:,:,0], x[:,:,1], x[:,:,2]\n",
    "Image.fromarray(np.stack([d2,d1,d3]).astype(np.uint8).swapaxes(0,1).swapaxes(1,2))"
   ]
  },
  {
   "cell_type": "code",
   "execution_count": null,
   "metadata": {},
   "outputs": [],
   "source": [
    "import torch\n",
    "import torchvision\n",
    "\n",
    "im = torchvision.utils.Image.open(os.path.join(images_dir, os.listdir(images_dir)[32]))\n",
    "im"
   ]
  },
  {
   "cell_type": "code",
   "execution_count": null,
   "metadata": {},
   "outputs": [],
   "source": [
    "transform = torchvision.transforms.ToTensor()\n",
    "transform(im).shape"
   ]
  },
  {
   "cell_type": "code",
   "execution_count": null,
   "metadata": {},
   "outputs": [],
   "source": [
    "import os\n",
    "from PIL import Image\n",
    "\n",
    "train_images_dir = './data/train'\n",
    "\n",
    "for i in os.listdir(train_images_dir):\n",
    "    im = Image.open(os.path.join(train_images_dir, i))\n",
    "    im = im.resize((256,256), Image.BILINEAR)\n",
    "    im.save(os.path.join('./data/train256', i))"
   ]
  },
  {
   "cell_type": "code",
   "execution_count": 12,
   "metadata": {},
   "outputs": [
    {
     "name": "stdout",
     "output_type": "stream",
     "text": [
      "torch.Size([3, 224, 224]) 0\n"
     ]
    },
    {
     "data": {
      "image/png": "[encoded data removed]",
      "text/plain": [
       "<PIL.Image.Image image mode=RGB size=224x224 at 0x7FAF12219C60>"
      ]
     },
     "execution_count": 12,
     "metadata": {},
     "output_type": "execute_result"
    }
   ],
   "source": [
    "from dataset import MaskImageDataset\n",
    "from transform import mask_image_transform\n",
    "from torchvision.transforms import ToPILImage\n",
    "\n",
    "dataset = MaskImageDataset('./data/train256', transform=mask_image_transform)\n",
    "x,y = dataset[34]\n",
    "print(x.shape, y)\n",
    "\n",
    "to_pil = ToPILImage()\n",
    "to_pil(x.byte())"
   ]
  },
  {
   "cell_type": "code",
   "execution_count": null,
   "metadata": {},
   "outputs": [],
   "source": [
    "to_pil(x.byte())"
   ]
  },
  {
   "cell_type": "code",
   "execution_count": null,
   "metadata": {},
   "outputs": [],
   "source": [
    "to_pil(x.float())"
   ]
  },
  {
   "cell_type": "code",
   "execution_count": 3,
   "metadata": {},
   "outputs": [
    {
     "data": {
      "text/plain": [
       "tensor([[[[129., 126., 111.,  ..., 142., 149., 153.],\n",
       "          [129., 128., 118.,  ..., 152., 155., 158.],\n",
       "          [128., 129., 122.,  ..., 159., 162., 160.],\n",
       "          ...,\n",
       "          [196., 196., 196.,  ...,  10.,   9.,  17.],\n",
       "          [196., 196., 196.,  ...,   8.,   9.,  17.],\n",
       "          [196., 196., 196.,  ...,   8.,   8.,  17.]],\n",
       "\n",
       "         [[182., 173., 152.,  ..., 186., 187., 182.],\n",
       "          [181., 175., 159.,  ..., 188., 184., 177.],\n",
       "          [179., 177., 163.,  ..., 185., 179., 170.],\n",
       "          ...,\n",
       "          [ 75.,  75.,  75.,  ...,   3.,   0.,   0.],\n",
       "          [ 75.,  75.,  75.,  ...,   2.,   0.,   0.],\n",
       "          [ 75.,  75.,  75.,  ...,   2.,   0.,   0.]],\n",
       "\n",
       "         [[156., 148., 129.,  ..., 145., 149., 150.],\n",
       "          [155., 150., 137.,  ..., 149., 151., 151.],\n",
       "          [152., 151., 141.,  ..., 152., 151., 149.],\n",
       "          ...,\n",
       "          [121., 121., 121.,  ...,   8.,   4.,   9.],\n",
       "          [121., 121., 121.,  ...,   5.,   4.,   9.],\n",
       "          [121., 121., 121.,  ...,   5.,   3.,   9.]]]])"
      ]
     },
     "execution_count": 3,
     "metadata": {},
     "output_type": "execute_result"
    }
   ],
   "source": [
    "x.view(-1,3,224,224)"
   ]
  },
  {
   "cell_type": "code",
   "execution_count": 6,
   "metadata": {},
   "outputs": [
    {
     "data": {
      "text/plain": [
       "torch.Size([1, 2])"
      ]
     },
     "execution_count": 6,
     "metadata": {},
     "output_type": "execute_result"
    }
   ],
   "source": [
    "from model import MaskDetectionModel\n",
    "import torch\n",
    "\n",
    "model = MaskDetectionModel()\n",
    "_y = model(x.view(-1,3,224,224))\n",
    "_y.shape"
   ]
  },
  {
   "cell_type": "code",
   "execution_count": 7,
   "metadata": {},
   "outputs": [
    {
     "data": {
      "text/plain": [
       "tensor([[0.5085, 0.4915]], grad_fn=<ExpBackward0>)"
      ]
     },
     "execution_count": 7,
     "metadata": {},
     "output_type": "execute_result"
    }
   ],
   "source": [
    "torch.exp(y)"
   ]
  },
  {
   "cell_type": "code",
   "execution_count": null,
   "metadata": {},
   "outputs": [],
   "source": [
    "import torch\n",
    "\n",
    "y = y.view(1,512,7,7)\n",
    "\n",
    "flatten = torch.nn.Flatten()\n",
    "flatten(y).shape"
   ]
  }
 ],
 "metadata": {
  "interpreter": {
   "hash": "7d538358a4a844c2698117f72ddbeea822b864d784b5f9260aa8445549be4a00"
  },
  "kernelspec": {
   "display_name": "Python 3.10.4 ('deep')",
   "language": "python",
   "name": "python3"
  },
  "language_info": {
   "codemirror_mode": {
    "name": "ipython",
    "version": 3
   },
   "file_extension": ".py",
   "mimetype": "text/x-python",
   "name": "python",
   "nbconvert_exporter": "python",
   "pygments_lexer": "ipython3",
   "version": "3.10.4"
  },
  "orig_nbformat": 4
 },
 "nbformat": 4,
 "nbformat_minor": 2
}
